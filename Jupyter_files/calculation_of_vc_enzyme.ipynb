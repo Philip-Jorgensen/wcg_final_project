{
 "cells": [
  {
   "attachments": {},
   "cell_type": "markdown",
   "metadata": {},
   "source": [
    "# Calculation of Enzyme and Vinyl Chloride\n",
    "**Desired molar ratio of 1:6 which means 1 mol of VC to 6 mols of enzyme**\n",
    "\n",
    "$$\n",
    "\\begin{align}\n",
    "\\text{Molar mass of vinyl chloride} &= 62.498 g/mole\\\\\n",
    "\\text{Mass (g)} &= N * M\\\\\n",
    "N &= \\frac m M \\\\\n",
    "\\end{align}\n",
    "$$\n",
    "Example with 40 $\\mu g$ of VC\n",
    "$$\n",
    "\\begin{align}\n",
    "&= \\frac{40 * 10^{-6}g}{62.498 g/mol}\\\\\n",
    "&= 6.4002 * 10^{-7} mol\n",
    "\\end{align}\n",
    "$$\n",
    "\n",
    "Enzyme calculation\n",
    "$$\n",
    "\\begin{align}\n",
    "\\text{Desired molar concentration of enzyme} &= 6 * 6.4002*10^{-6} mol = 3.84012*10^{-6} mol\\\\\n",
    "\\text{Molar mass of enzyme} &= 55000 g/mol\\\\\n",
    "m &= N * M\\\\\n",
    "&= 3.84012*10^{-6} mol * 55000 g/mol\\\\\n",
    "&= 0.2112 g\n",
    "\\end{align}\n",
    "$$\n"
   ]
  },
  {
   "cell_type": "code",
   "execution_count": 2,
   "metadata": {},
   "outputs": [
    {
     "name": "stdout",
     "output_type": "stream",
     "text": [
      "vc_mass = 4.00e-05 g\n",
      "enzyme_mass = 2.11e-01 g\n"
     ]
    }
   ],
   "source": [
    "vc_volume = 20 # ul\n",
    "vc_concentration = 2000 # ug / ml\n",
    "\n",
    "vc_molar_mass = 62.498 # g/mole\n",
    "enzyme_molar_mass = 55000 # g/mole\n",
    "\n",
    "ratio = 1/6 # VC / Enzyme\n",
    "\n",
    "vc_mass_formula = lambda x : (vc_concentration/1000)*x * 1e-6 #g\n",
    "vc_mass = (vc_concentration/1000)*vc_volume * 1e-6 # g\n",
    "\n",
    "vc_moles = vc_mass / vc_molar_mass\n",
    "\n",
    "enzyme_mass = lambda vc_g : (vc_g * enzyme_molar_mass) / (ratio * vc_molar_mass)\n",
    "\n",
    "# enzyme_mass = desired_molar_concentration_enzyme * enzyme_molar_mass # g\n",
    "\n",
    "print(\"vc_mass = {:.2e} g\".format(vc_mass))\n",
    "print(\"enzyme_mass = {:.2e} g\".format(enzyme_mass(vc_mass)))"
   ]
  },
  {
   "attachments": {},
   "cell_type": "markdown",
   "metadata": {},
   "source": [
    "## Recalculation of concentration\n",
    "Since the calculation doesn't produce the same weight of enzyme required, but we know that the shown weight of enzyme ($0.272\\mu g$) works, we are going to calculate backwards to get a new concentration instead. We are also assuming that the molar mass of the enzyme ($55000$ g/mole) is correct\n",
    "\n",
    "Given that\n",
    "$$\n",
    "N = \\frac m M\n",
    "$$"
   ]
  },
  {
   "cell_type": "code",
   "execution_count": 3,
   "metadata": {},
   "outputs": [
    {
     "data": {
      "text/plain": [
       "4.945454545454545e-12"
      ]
     },
     "metadata": {},
     "output_type": "display_data"
    }
   ],
   "source": [
    "known_enzyme_mass = 0.272 * 1e-6 # g\n",
    "\n",
    "new_enzyme_mole = known_enzyme_mass / enzyme_molar_mass\n",
    "\n",
    "display(new_enzyme_mole)"
   ]
  },
  {
   "attachments": {},
   "cell_type": "markdown",
   "metadata": {},
   "source": [
    "This means that the concentration of the enzyme is \n",
    "$$\n",
    "N = 4.945 \\text{ pico mole} = 4.945 \\cdot 10^{-12} mole\n",
    "$$\n",
    "\n",
    "Now we can get the concentration by dividing the enzyme moles with the VC moles to get"
   ]
  },
  {
   "cell_type": "code",
   "execution_count": 4,
   "metadata": {},
   "outputs": [
    {
     "name": "stdout",
     "output_type": "stream",
     "text": [
      "129415.90601487482\n",
      "\n",
      "| Property | Value |\n",
      "| -------- | ----- |\n",
      "|Concentration multiplier|10|\n",
      "\n",
      "**Experiment properties**\n",
      "\n",
      "| Property | Value |\n",
      "| -------- | ----- |\n",
      "| VC Volume | 10.0 $\\mu l$ |\n",
      "| Enzyme required | 1.360 $\\mu g$ |\n",
      "|Water volume |10 ml |\n",
      "| VC Concentration|2 $\\mu g / ml$|\n",
      "\n",
      "--- String copied ---\n"
     ]
    }
   ],
   "source": [
    "water_volume = 10 #ml\n",
    "vc_concentration_desired = 2 # ug/ml\n",
    "concentration_multiplier = 10\n",
    "\n",
    "vc_weight = 40*1e-6 # g\n",
    "\n",
    "concentration = (vc_moles / new_enzyme_mole)\n",
    "vc_volume_2 = (vc_concentration_desired * water_volume)/(vc_concentration/1000) # ul\n",
    "\n",
    "enzyme_weight = lambda x : ((x/vc_molar_mass)*concentration)*enzyme_molar_mass\n",
    "\n",
    "def vc_weight_to_enzyme(vc_g):\n",
    "    return ((vc_g * enzyme_molar_mass)/(concentration*vc_molar_mass))*concentration_multiplier\n",
    "\n",
    "import pyperclip\n",
    "print(concentration)\n",
    "\n",
    "output_string = f'''\n",
    "| Property | Value |\n",
    "| -------- | ----- |\n",
    "|Concentration multiplier|{concentration_multiplier}|\n",
    "\n",
    "**Experiment properties**\n",
    "\n",
    "| Property | Value |\n",
    "| -------- | ----- |\n",
    "| VC Volume | {vc_volume_2} $\\mu l$ |\n",
    "| Enzyme required | {vc_weight_to_enzyme(vc_mass_formula(vc_volume_2))*1e6:.3f} $\\mu g$ |\n",
    "|Water volume |{water_volume} ml |\n",
    "| VC Concentration|{vc_concentration_desired} $\\mu g / ml$|\n",
    "'''\n",
    "print(output_string)\n",
    "print(\"--- String copied ---\")\n",
    "pyperclip.copy(output_string)"
   ]
  },
  {
   "attachments": {},
   "cell_type": "markdown",
   "metadata": {},
   "source": [
    "#### Calculating equation of line\n",
    "$$\n",
    "y = mx + b\\\\\n",
    "y-y_1 = (\\frac{y_2 - y_1}{x_2 - x_1})(x-x_1)\\\\\n",
    "y = (\\frac{y_2 - y_1}{x_2 - x_1})(x-x_1) + y_1\\\\\n",
    "$$"
   ]
  },
  {
   "cell_type": "code",
   "execution_count": 5,
   "metadata": {},
   "outputs": [
    {
     "data": {
      "text/plain": [
       "0.04809999999999999"
      ]
     },
     "execution_count": 5,
     "metadata": {},
     "output_type": "execute_result"
    }
   ],
   "source": [
    "x = [0.1, 1]\n",
    "y = [0.0004, 0.0031]\n",
    "\n",
    "ri_predict = lambda a : ((y[1]-y[0])/(x[1]-x[0]))*(a-x[0])+y[0]\n",
    "ri_predict(16)"
   ]
  }
 ],
 "metadata": {
  "kernelspec": {
   "display_name": "Python 3",
   "language": "python",
   "name": "python3"
  },
  "language_info": {
   "codemirror_mode": {
    "name": "ipython",
    "version": 3
   },
   "file_extension": ".py",
   "mimetype": "text/x-python",
   "name": "python",
   "nbconvert_exporter": "python",
   "pygments_lexer": "ipython3",
   "version": "3.12.0"
  },
  "orig_nbformat": 4
 },
 "nbformat": 4,
 "nbformat_minor": 2
}
